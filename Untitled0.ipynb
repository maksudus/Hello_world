{
  "nbformat": 4,
  "nbformat_minor": 0,
  "metadata": {
    "colab": {
      "name": "Untitled0.ipynb",
      "provenance": [],
      "include_colab_link": true
    },
    "kernelspec": {
      "name": "python3",
      "display_name": "Python 3"
    }
  },
  "cells": [
    {
      "cell_type": "markdown",
      "metadata": {
        "id": "view-in-github",
        "colab_type": "text"
      },
      "source": [
        "<a href=\"https://colab.research.google.com/github/maksudus/Hello_world/blob/master/Untitled0.ipynb\" target=\"_parent\"><img src=\"https://colab.research.google.com/assets/colab-badge.svg\" alt=\"Open In Colab\"/></a>"
      ]
    },
    {
      "cell_type": "code",
      "metadata": {
        "id": "YNQSVyvX74_s",
        "colab_type": "code",
        "colab": {}
      },
      "source": [
        "import keras\n",
        "\n",
        "\n"
      ],
      "execution_count": 0,
      "outputs": []
    },
    {
      "cell_type": "code",
      "metadata": {
        "id": "Wz6QElI_9f3p",
        "colab_type": "code",
        "colab": {}
      },
      "source": [
        "import numpy as np"
      ],
      "execution_count": 0,
      "outputs": []
    },
    {
      "cell_type": "code",
      "metadata": {
        "id": "tRIL4Q2050_E",
        "colab_type": "code",
        "colab": {}
      },
      "source": [
        "X_train = np.random.normal(0, 1, (50000,3))\n",
        "y_train_ = np.random.normal(0, 1, (50000,1))\n",
        "y_train = []\n",
        "for y in y_train_:\n",
        "  if y < 0:\n",
        "    y_train.append(0)\n",
        "  else:\n",
        "    y_train.append(1)\n",
        "y_train = np.asarray(y_train)\n"
      ],
      "execution_count": 0,
      "outputs": []
    },
    {
      "cell_type": "code",
      "metadata": {
        "id": "zMgymWoc2Gz9",
        "colab_type": "code",
        "colab": {
          "base_uri": "https://localhost:8080/",
          "height": 34
        },
        "outputId": "44a3f064-6741-40cf-8ea5-d7aa417f8c87"
      },
      "source": [
        "print(type(y_train), type(X_train))\n"
      ],
      "execution_count": 32,
      "outputs": [
        {
          "output_type": "stream",
          "text": [
            "<class 'numpy.ndarray'> <class 'numpy.ndarray'>\n"
          ],
          "name": "stdout"
        }
      ]
    },
    {
      "cell_type": "code",
      "metadata": {
        "id": "3FlvFail9tSa",
        "colab_type": "code",
        "colab": {}
      },
      "source": [
        "from keras.layers import Dense, Input"
      ],
      "execution_count": 0,
      "outputs": []
    },
    {
      "cell_type": "code",
      "metadata": {
        "id": "1FwfVt6o91PU",
        "colab_type": "code",
        "colab": {}
      },
      "source": [
        "from keras.models import Model"
      ],
      "execution_count": 0,
      "outputs": []
    },
    {
      "cell_type": "code",
      "metadata": {
        "id": "VL_W-NQuA4v1",
        "colab_type": "code",
        "colab": {}
      },
      "source": [
        "from keras.optimizers import SGD"
      ],
      "execution_count": 0,
      "outputs": []
    },
    {
      "cell_type": "code",
      "metadata": {
        "id": "lP993MHH-EjS",
        "colab_type": "code",
        "colab": {}
      },
      "source": [
        "a = Input(shape=(3,))\n",
        "x = Dense(10)(a)\n",
        "y = Dense(1)(x)\n",
        "model = Model(inputs=a, outputs=y)"
      ],
      "execution_count": 0,
      "outputs": []
    },
    {
      "cell_type": "code",
      "metadata": {
        "id": "QnFdzLDU_SS0",
        "colab_type": "code",
        "colab": {
          "base_uri": "https://localhost:8080/",
          "height": 255
        },
        "outputId": "946e25a8-2218-42f2-cc24-f0f4f9155e64"
      },
      "source": [
        "model.summary()\n"
      ],
      "execution_count": 54,
      "outputs": [
        {
          "output_type": "stream",
          "text": [
            "Model: \"model_3\"\n",
            "_________________________________________________________________\n",
            "Layer (type)                 Output Shape              Param #   \n",
            "=================================================================\n",
            "input_5 (InputLayer)         (None, 3)                 0         \n",
            "_________________________________________________________________\n",
            "dense_9 (Dense)              (None, 10)                40        \n",
            "_________________________________________________________________\n",
            "dense_10 (Dense)             (None, 1)                 11        \n",
            "=================================================================\n",
            "Total params: 51\n",
            "Trainable params: 51\n",
            "Non-trainable params: 0\n",
            "_________________________________________________________________\n"
          ],
          "name": "stdout"
        }
      ]
    },
    {
      "cell_type": "code",
      "metadata": {
        "id": "IxA5YD3mBemD",
        "colab_type": "code",
        "colab": {
          "base_uri": "https://localhost:8080/",
          "height": 1000
        },
        "outputId": "a6e3a25d-443a-4296-f8e5-c3dba83578a4"
      },
      "source": [
        "model.compile(SGD(), loss=\"MSE\", metrics=['accuracy'])\n",
        "model.fit(X_train, y_train, epochs=100)"
      ],
      "execution_count": 69,
      "outputs": [
        {
          "output_type": "stream",
          "text": [
            "Epoch 1/100\n",
            "50000/50000 [==============================] - 2s 37us/step - loss: 0.2506 - acc: 0.5013\n",
            "Epoch 2/100\n",
            "50000/50000 [==============================] - 2s 31us/step - loss: 0.2507 - acc: 0.5001\n",
            "Epoch 3/100\n",
            "50000/50000 [==============================] - 2s 31us/step - loss: 0.2507 - acc: 0.4982\n",
            "Epoch 4/100\n",
            "50000/50000 [==============================] - 2s 31us/step - loss: 0.2506 - acc: 0.5017\n",
            "Epoch 5/100\n",
            "50000/50000 [==============================] - 2s 32us/step - loss: 0.2507 - acc: 0.4988\n",
            "Epoch 6/100\n",
            "50000/50000 [==============================] - 2s 32us/step - loss: 0.2506 - acc: 0.4979\n",
            "Epoch 7/100\n",
            "50000/50000 [==============================] - 2s 32us/step - loss: 0.2505 - acc: 0.5034\n",
            "Epoch 8/100\n",
            "50000/50000 [==============================] - 2s 32us/step - loss: 0.2506 - acc: 0.4985\n",
            "Epoch 9/100\n",
            "50000/50000 [==============================] - 2s 33us/step - loss: 0.2506 - acc: 0.4993\n",
            "Epoch 10/100\n",
            "50000/50000 [==============================] - 2s 32us/step - loss: 0.2506 - acc: 0.5025\n",
            "Epoch 11/100\n",
            "50000/50000 [==============================] - 2s 32us/step - loss: 0.2505 - acc: 0.5019\n",
            "Epoch 12/100\n",
            "50000/50000 [==============================] - 2s 31us/step - loss: 0.2506 - acc: 0.4977\n",
            "Epoch 13/100\n",
            "50000/50000 [==============================] - 2s 30us/step - loss: 0.2505 - acc: 0.5010\n",
            "Epoch 14/100\n",
            "50000/50000 [==============================] - 2s 31us/step - loss: 0.2506 - acc: 0.4973\n",
            "Epoch 15/100\n",
            "50000/50000 [==============================] - 2s 30us/step - loss: 0.2505 - acc: 0.4980\n",
            "Epoch 16/100\n",
            "50000/50000 [==============================] - 2s 31us/step - loss: 0.2506 - acc: 0.4976\n",
            "Epoch 17/100\n",
            "50000/50000 [==============================] - 2s 31us/step - loss: 0.2505 - acc: 0.4987\n",
            "Epoch 18/100\n",
            "50000/50000 [==============================] - 1s 30us/step - loss: 0.2506 - acc: 0.5001\n",
            "Epoch 19/100\n",
            "50000/50000 [==============================] - 2s 30us/step - loss: 0.2505 - acc: 0.4965\n",
            "Epoch 20/100\n",
            "50000/50000 [==============================] - 2s 31us/step - loss: 0.2505 - acc: 0.4990\n",
            "Epoch 21/100\n",
            "50000/50000 [==============================] - 2s 30us/step - loss: 0.2505 - acc: 0.4997\n",
            "Epoch 22/100\n",
            "50000/50000 [==============================] - 2s 30us/step - loss: 0.2505 - acc: 0.5007\n",
            "Epoch 23/100\n",
            "50000/50000 [==============================] - 2s 31us/step - loss: 0.2505 - acc: 0.5028\n",
            "Epoch 24/100\n",
            "50000/50000 [==============================] - 2s 30us/step - loss: 0.2506 - acc: 0.4986\n",
            "Epoch 25/100\n",
            "50000/50000 [==============================] - 2s 31us/step - loss: 0.2505 - acc: 0.4988\n",
            "Epoch 26/100\n",
            "50000/50000 [==============================] - 2s 31us/step - loss: 0.2505 - acc: 0.4980\n",
            "Epoch 27/100\n",
            "50000/50000 [==============================] - 1s 30us/step - loss: 0.2504 - acc: 0.5030\n",
            "Epoch 28/100\n",
            "50000/50000 [==============================] - 2s 31us/step - loss: 0.2505 - acc: 0.5001\n",
            "Epoch 29/100\n",
            "50000/50000 [==============================] - 2s 31us/step - loss: 0.2506 - acc: 0.4974\n",
            "Epoch 30/100\n",
            "50000/50000 [==============================] - 2s 31us/step - loss: 0.2506 - acc: 0.4967\n",
            "Epoch 31/100\n",
            "50000/50000 [==============================] - 2s 31us/step - loss: 0.2505 - acc: 0.5026\n",
            "Epoch 32/100\n",
            "50000/50000 [==============================] - 2s 31us/step - loss: 0.2505 - acc: 0.5011\n",
            "Epoch 33/100\n",
            "50000/50000 [==============================] - 2s 31us/step - loss: 0.2505 - acc: 0.4991\n",
            "Epoch 34/100\n",
            "50000/50000 [==============================] - 2s 30us/step - loss: 0.2505 - acc: 0.4996\n",
            "Epoch 35/100\n",
            "50000/50000 [==============================] - 2s 31us/step - loss: 0.2504 - acc: 0.5016\n",
            "Epoch 36/100\n",
            "50000/50000 [==============================] - 2s 31us/step - loss: 0.2504 - acc: 0.5033\n",
            "Epoch 37/100\n",
            "50000/50000 [==============================] - 2s 31us/step - loss: 0.2504 - acc: 0.5010\n",
            "Epoch 38/100\n",
            "50000/50000 [==============================] - 2s 30us/step - loss: 0.2505 - acc: 0.4954\n",
            "Epoch 39/100\n",
            "50000/50000 [==============================] - 2s 30us/step - loss: 0.2505 - acc: 0.4978\n",
            "Epoch 40/100\n",
            "50000/50000 [==============================] - 2s 31us/step - loss: 0.2504 - acc: 0.5033\n",
            "Epoch 41/100\n",
            "50000/50000 [==============================] - 2s 31us/step - loss: 0.2505 - acc: 0.5018\n",
            "Epoch 42/100\n",
            "50000/50000 [==============================] - 2s 30us/step - loss: 0.2504 - acc: 0.5005\n",
            "Epoch 43/100\n",
            "50000/50000 [==============================] - 2s 31us/step - loss: 0.2504 - acc: 0.5009\n",
            "Epoch 44/100\n",
            "50000/50000 [==============================] - 2s 30us/step - loss: 0.2504 - acc: 0.5001\n",
            "Epoch 45/100\n",
            "50000/50000 [==============================] - 2s 31us/step - loss: 0.2504 - acc: 0.5045\n",
            "Epoch 46/100\n",
            "50000/50000 [==============================] - 2s 30us/step - loss: 0.2505 - acc: 0.4979\n",
            "Epoch 47/100\n",
            "50000/50000 [==============================] - 2s 31us/step - loss: 0.2505 - acc: 0.4979\n",
            "Epoch 48/100\n",
            "50000/50000 [==============================] - 2s 31us/step - loss: 0.2505 - acc: 0.4965\n",
            "Epoch 49/100\n",
            "50000/50000 [==============================] - 2s 31us/step - loss: 0.2505 - acc: 0.4976\n",
            "Epoch 50/100\n",
            "50000/50000 [==============================] - 2s 31us/step - loss: 0.2504 - acc: 0.5000\n",
            "Epoch 51/100\n",
            "50000/50000 [==============================] - 2s 30us/step - loss: 0.2505 - acc: 0.4969\n",
            "Epoch 52/100\n",
            "50000/50000 [==============================] - 2s 31us/step - loss: 0.2504 - acc: 0.5002\n",
            "Epoch 53/100\n",
            "50000/50000 [==============================] - 2s 31us/step - loss: 0.2504 - acc: 0.5029\n",
            "Epoch 54/100\n",
            "50000/50000 [==============================] - 2s 31us/step - loss: 0.2505 - acc: 0.4986\n",
            "Epoch 55/100\n",
            "50000/50000 [==============================] - 2s 31us/step - loss: 0.2504 - acc: 0.4979\n",
            "Epoch 56/100\n",
            "50000/50000 [==============================] - 2s 31us/step - loss: 0.2504 - acc: 0.4991\n",
            "Epoch 57/100\n",
            "50000/50000 [==============================] - 2s 30us/step - loss: 0.2504 - acc: 0.5006\n",
            "Epoch 58/100\n",
            "50000/50000 [==============================] - 2s 31us/step - loss: 0.2504 - acc: 0.5000\n",
            "Epoch 59/100\n",
            "50000/50000 [==============================] - 2s 30us/step - loss: 0.2504 - acc: 0.5011\n",
            "Epoch 60/100\n",
            "50000/50000 [==============================] - 2s 31us/step - loss: 0.2504 - acc: 0.4980\n",
            "Epoch 61/100\n",
            "50000/50000 [==============================] - 2s 30us/step - loss: 0.2504 - acc: 0.5009\n",
            "Epoch 62/100\n",
            "50000/50000 [==============================] - 2s 31us/step - loss: 0.2504 - acc: 0.4988\n",
            "Epoch 63/100\n",
            "50000/50000 [==============================] - 2s 31us/step - loss: 0.2504 - acc: 0.5014\n",
            "Epoch 64/100\n",
            "50000/50000 [==============================] - 2s 32us/step - loss: 0.2504 - acc: 0.4990\n",
            "Epoch 65/100\n",
            "50000/50000 [==============================] - 2s 32us/step - loss: 0.2504 - acc: 0.5011\n",
            "Epoch 66/100\n",
            "50000/50000 [==============================] - 2s 33us/step - loss: 0.2504 - acc: 0.4984\n",
            "Epoch 67/100\n",
            "50000/50000 [==============================] - 2s 32us/step - loss: 0.2503 - acc: 0.5022\n",
            "Epoch 68/100\n",
            "50000/50000 [==============================] - 2s 31us/step - loss: 0.2503 - acc: 0.5021\n",
            "Epoch 69/100\n",
            "50000/50000 [==============================] - 2s 31us/step - loss: 0.2503 - acc: 0.5004\n",
            "Epoch 70/100\n",
            "50000/50000 [==============================] - 1s 30us/step - loss: 0.2504 - acc: 0.4984\n",
            "Epoch 71/100\n",
            "50000/50000 [==============================] - 2s 31us/step - loss: 0.2504 - acc: 0.5029\n",
            "Epoch 72/100\n",
            "50000/50000 [==============================] - 2s 30us/step - loss: 0.2504 - acc: 0.5002\n",
            "Epoch 73/100\n",
            "50000/50000 [==============================] - 2s 31us/step - loss: 0.2504 - acc: 0.4976\n",
            "Epoch 74/100\n",
            "50000/50000 [==============================] - 2s 31us/step - loss: 0.2503 - acc: 0.5025\n",
            "Epoch 75/100\n",
            "50000/50000 [==============================] - 2s 31us/step - loss: 0.2503 - acc: 0.5025\n",
            "Epoch 76/100\n",
            "50000/50000 [==============================] - 2s 31us/step - loss: 0.2503 - acc: 0.5003\n",
            "Epoch 77/100\n",
            "50000/50000 [==============================] - 2s 30us/step - loss: 0.2504 - acc: 0.4973\n",
            "Epoch 78/100\n",
            "50000/50000 [==============================] - 2s 30us/step - loss: 0.2504 - acc: 0.4972\n",
            "Epoch 79/100\n",
            "50000/50000 [==============================] - 2s 31us/step - loss: 0.2503 - acc: 0.5021\n",
            "Epoch 80/100\n",
            "50000/50000 [==============================] - 2s 31us/step - loss: 0.2503 - acc: 0.5028\n",
            "Epoch 81/100\n",
            "50000/50000 [==============================] - 2s 31us/step - loss: 0.2503 - acc: 0.5026\n",
            "Epoch 82/100\n",
            "50000/50000 [==============================] - 2s 31us/step - loss: 0.2504 - acc: 0.5012\n",
            "Epoch 83/100\n",
            "50000/50000 [==============================] - 2s 30us/step - loss: 0.2504 - acc: 0.5000\n",
            "Epoch 84/100\n",
            "50000/50000 [==============================] - 2s 30us/step - loss: 0.2503 - acc: 0.4997\n",
            "Epoch 85/100\n",
            "50000/50000 [==============================] - 2s 31us/step - loss: 0.2504 - acc: 0.4993\n",
            "Epoch 86/100\n",
            "50000/50000 [==============================] - 2s 30us/step - loss: 0.2503 - acc: 0.4998\n",
            "Epoch 87/100\n",
            "50000/50000 [==============================] - 2s 32us/step - loss: 0.2503 - acc: 0.5038\n",
            "Epoch 88/100\n",
            "50000/50000 [==============================] - 2s 31us/step - loss: 0.2503 - acc: 0.5006\n",
            "Epoch 89/100\n",
            "50000/50000 [==============================] - 2s 31us/step - loss: 0.2503 - acc: 0.5009\n",
            "Epoch 90/100\n",
            "50000/50000 [==============================] - 1s 30us/step - loss: 0.2503 - acc: 0.4978\n",
            "Epoch 91/100\n",
            "50000/50000 [==============================] - 2s 30us/step - loss: 0.2503 - acc: 0.5004\n",
            "Epoch 92/100\n",
            "50000/50000 [==============================] - 2s 31us/step - loss: 0.2504 - acc: 0.4948\n",
            "Epoch 93/100\n",
            "50000/50000 [==============================] - 2s 31us/step - loss: 0.2503 - acc: 0.5011\n",
            "Epoch 94/100\n",
            "50000/50000 [==============================] - 2s 31us/step - loss: 0.2504 - acc: 0.4995\n",
            "Epoch 95/100\n",
            "50000/50000 [==============================] - 2s 30us/step - loss: 0.2503 - acc: 0.5032\n",
            "Epoch 96/100\n",
            "50000/50000 [==============================] - 2s 30us/step - loss: 0.2504 - acc: 0.4959\n",
            "Epoch 97/100\n",
            "50000/50000 [==============================] - 2s 31us/step - loss: 0.2503 - acc: 0.5026\n",
            "Epoch 98/100\n",
            "50000/50000 [==============================] - 2s 30us/step - loss: 0.2503 - acc: 0.4991\n",
            "Epoch 99/100\n",
            "50000/50000 [==============================] - 2s 31us/step - loss: 0.2504 - acc: 0.4966\n",
            "Epoch 100/100\n",
            "50000/50000 [==============================] - 2s 31us/step - loss: 0.2503 - acc: 0.5003\n"
          ],
          "name": "stdout"
        },
        {
          "output_type": "execute_result",
          "data": {
            "text/plain": [
              "<keras.callbacks.History at 0x7f67a16e58d0>"
            ]
          },
          "metadata": {
            "tags": []
          },
          "execution_count": 69
        }
      ]
    }
  ]
}