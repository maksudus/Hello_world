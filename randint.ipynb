{
  "nbformat": 4,
  "nbformat_minor": 0,
  "metadata": {
    "colab": {
      "name": "Untitled0.ipynb",
      "provenance": [],
      "include_colab_link": true
    },
    "kernelspec": {
      "name": "python3",
      "display_name": "Python 3"
    }
  },
  "cells": [
    {
      "cell_type": "markdown",
      "metadata": {
        "id": "view-in-github",
        "colab_type": "text"
      },
      "source": [
        "<a href=\"https://colab.research.google.com/github/maksudus/Hello_world/blob/master/randint.ipynb\" target=\"_parent\"><img src=\"https://colab.research.google.com/assets/colab-badge.svg\" alt=\"Open In Colab\"/></a>"
      ]
    },
    {
      "cell_type": "code",
      "metadata": {
        "id": "YNQSVyvX74_s",
        "colab_type": "code",
        "colab": {}
      },
      "source": [
        "import keras\n",
        "\n",
        "\n"
      ],
      "execution_count": 0,
      "outputs": []
    },
    {
      "cell_type": "code",
      "metadata": {
        "id": "Wz6QElI_9f3p",
        "colab_type": "code",
        "colab": {}
      },
      "source": [
        "import numpy as np"
      ],
      "execution_count": 0,
      "outputs": []
    },
    {
      "cell_type": "code",
      "metadata": {
        "id": "tRIL4Q2050_E",
        "colab_type": "code",
        "colab": {}
      },
      "source": [
        "X_train = np.random.randint(0, 1, (300,3))\n",
        "y_train_ = np.random.randint(0, 1, (300,1))\n",
        "y_train = []\n",
        "for y in y_train_:\n",
        "  if y < 0:\n",
        "    y_train.append(0)\n",
        "  else:\n",
        "    y_train.append(1)\n",
        "y_train = np.asarray(y_train)\n",
        "\n"
      ],
      "execution_count": 0,
      "outputs": []
    },
    {
      "cell_type": "code",
      "metadata": {
        "id": "zMgymWoc2Gz9",
        "colab_type": "code",
        "outputId": "14a8aa3d-5743-422b-c632-38b01f998182",
        "colab": {
          "base_uri": "https://localhost:8080/",
          "height": 34
        }
      },
      "source": [
        "print(type(y_train), type(X_train))\n"
      ],
      "execution_count": 98,
      "outputs": [
        {
          "output_type": "stream",
          "text": [
            "<class 'numpy.ndarray'> <class 'numpy.ndarray'>\n"
          ],
          "name": "stdout"
        }
      ]
    },
    {
      "cell_type": "code",
      "metadata": {
        "id": "3FlvFail9tSa",
        "colab_type": "code",
        "colab": {}
      },
      "source": [
        "from keras.layers import Dense, Input"
      ],
      "execution_count": 0,
      "outputs": []
    },
    {
      "cell_type": "code",
      "metadata": {
        "id": "1FwfVt6o91PU",
        "colab_type": "code",
        "colab": {}
      },
      "source": [
        "from keras.models import Model"
      ],
      "execution_count": 0,
      "outputs": []
    },
    {
      "cell_type": "code",
      "metadata": {
        "id": "VL_W-NQuA4v1",
        "colab_type": "code",
        "colab": {}
      },
      "source": [
        "from keras.optimizers import SGD"
      ],
      "execution_count": 0,
      "outputs": []
    },
    {
      "cell_type": "code",
      "metadata": {
        "id": "lP993MHH-EjS",
        "colab_type": "code",
        "colab": {}
      },
      "source": [
        "a = Input(shape=(3,))\n",
        "x = Dense(10)(a)\n",
        "y = Dense(1)(x)\n",
        "model = Model(inputs=a, outputs=y)"
      ],
      "execution_count": 0,
      "outputs": []
    },
    {
      "cell_type": "code",
      "metadata": {
        "id": "QnFdzLDU_SS0",
        "colab_type": "code",
        "outputId": "91dbfc46-1600-469b-ce3f-f830db649f06",
        "colab": {
          "base_uri": "https://localhost:8080/",
          "height": 255
        }
      },
      "source": [
        "model.summary()\n"
      ],
      "execution_count": 103,
      "outputs": [
        {
          "output_type": "stream",
          "text": [
            "Model: \"model_10\"\n",
            "_________________________________________________________________\n",
            "Layer (type)                 Output Shape              Param #   \n",
            "=================================================================\n",
            "input_10 (InputLayer)        (None, 3)                 0         \n",
            "_________________________________________________________________\n",
            "dense_19 (Dense)             (None, 10)                40        \n",
            "_________________________________________________________________\n",
            "dense_20 (Dense)             (None, 1)                 11        \n",
            "=================================================================\n",
            "Total params: 51\n",
            "Trainable params: 51\n",
            "Non-trainable params: 0\n",
            "_________________________________________________________________\n"
          ],
          "name": "stdout"
        }
      ]
    },
    {
      "cell_type": "code",
      "metadata": {
        "id": "IxA5YD3mBemD",
        "colab_type": "code",
        "outputId": "7d2699b1-35cc-4108-dd29-37bafdde56a0",
        "colab": {
          "base_uri": "https://localhost:8080/",
          "height": 884
        }
      },
      "source": [
        "model.compile(SGD(), loss=\"MSE\", metrics=['accuracy'])\n",
        "model.fit(X_train, y_train, epochs=25)"
      ],
      "execution_count": 111,
      "outputs": [
        {
          "output_type": "stream",
          "text": [
            "Epoch 1/25\n",
            "300/300 [==============================] - 0s 1ms/step - loss: 1.2790e-13 - acc: 1.0000\n",
            "Epoch 2/25\n",
            "300/300 [==============================] - 0s 44us/step - loss: 1.2790e-13 - acc: 1.0000\n",
            "Epoch 3/25\n",
            "300/300 [==============================] - 0s 44us/step - loss: 1.2790e-13 - acc: 1.0000\n",
            "Epoch 4/25\n",
            "300/300 [==============================] - 0s 44us/step - loss: 1.2790e-13 - acc: 1.0000\n",
            "Epoch 5/25\n",
            "300/300 [==============================] - 0s 42us/step - loss: 1.2790e-13 - acc: 1.0000\n",
            "Epoch 6/25\n",
            "300/300 [==============================] - 0s 40us/step - loss: 1.2790e-13 - acc: 1.0000\n",
            "Epoch 7/25\n",
            "300/300 [==============================] - 0s 44us/step - loss: 1.2790e-13 - acc: 1.0000\n",
            "Epoch 8/25\n",
            "300/300 [==============================] - 0s 45us/step - loss: 1.2790e-13 - acc: 1.0000\n",
            "Epoch 9/25\n",
            "300/300 [==============================] - 0s 40us/step - loss: 1.2790e-13 - acc: 1.0000\n",
            "Epoch 10/25\n",
            "300/300 [==============================] - 0s 47us/step - loss: 1.2790e-13 - acc: 1.0000\n",
            "Epoch 11/25\n",
            "300/300 [==============================] - 0s 45us/step - loss: 1.2790e-13 - acc: 1.0000\n",
            "Epoch 12/25\n",
            "300/300 [==============================] - 0s 40us/step - loss: 1.2790e-13 - acc: 1.0000\n",
            "Epoch 13/25\n",
            "300/300 [==============================] - 0s 50us/step - loss: 1.2790e-13 - acc: 1.0000\n",
            "Epoch 14/25\n",
            "300/300 [==============================] - 0s 59us/step - loss: 1.2790e-13 - acc: 1.0000\n",
            "Epoch 15/25\n",
            "300/300 [==============================] - 0s 50us/step - loss: 1.2790e-13 - acc: 1.0000\n",
            "Epoch 16/25\n",
            "300/300 [==============================] - 0s 51us/step - loss: 1.2790e-13 - acc: 1.0000\n",
            "Epoch 17/25\n",
            "300/300 [==============================] - 0s 45us/step - loss: 1.2790e-13 - acc: 1.0000\n",
            "Epoch 18/25\n",
            "300/300 [==============================] - 0s 49us/step - loss: 1.2790e-13 - acc: 1.0000\n",
            "Epoch 19/25\n",
            "300/300 [==============================] - 0s 45us/step - loss: 1.2790e-13 - acc: 1.0000\n",
            "Epoch 20/25\n",
            "300/300 [==============================] - 0s 46us/step - loss: 1.2790e-13 - acc: 1.0000\n",
            "Epoch 21/25\n",
            "300/300 [==============================] - 0s 45us/step - loss: 1.2790e-13 - acc: 1.0000\n",
            "Epoch 22/25\n",
            "300/300 [==============================] - 0s 45us/step - loss: 1.2790e-13 - acc: 1.0000\n",
            "Epoch 23/25\n",
            "300/300 [==============================] - 0s 43us/step - loss: 1.2790e-13 - acc: 1.0000\n",
            "Epoch 24/25\n",
            "300/300 [==============================] - 0s 49us/step - loss: 1.2790e-13 - acc: 1.0000\n",
            "Epoch 25/25\n",
            "300/300 [==============================] - 0s 53us/step - loss: 1.2790e-13 - acc: 1.0000\n"
          ],
          "name": "stdout"
        },
        {
          "output_type": "execute_result",
          "data": {
            "text/plain": [
              "<keras.callbacks.History at 0x7f739dafbf60>"
            ]
          },
          "metadata": {
            "tags": []
          },
          "execution_count": 111
        }
      ]
    }
  ]
}